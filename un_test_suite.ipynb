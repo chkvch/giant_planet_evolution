{
 "cells": [
  {
   "cell_type": "code",
   "execution_count": 1,
   "metadata": {},
   "outputs": [
    {
     "data": {
      "text/plain": [
       "'set matplotlib rcparams to match jupyter theme'"
      ]
     },
     "execution_count": 1,
     "metadata": {},
     "output_type": "execute_result"
    }
   ],
   "source": [
    "import const\n",
    "%matplotlib inline\n",
    "from jupyterthemes import jtplot\n",
    "jtplot.style()\n",
    "import matplotlib.pyplot as plt\n",
    "%matplotlib inline\n",
    "\n",
    "'''set matplotlib rcparams to match jupyter theme'''\n",
    "#from jupyterthemes import jtplot\n",
    "#jtplot.style()\n",
    "\n",
    "#import matplotlib as mpl\n",
    "#mpl.rcParams['figure.figsize'] = (6, 4)"
   ]
  },
  {
   "cell_type": "code",
   "execution_count": 2,
   "metadata": {},
   "outputs": [
    {
     "name": "stdout",
     "output_type": "stream",
     "text": [
      "                                   uranus                model                ratio\n",
      "                mass            14.525969            14.525969             1.000000\n",
      "              radius           2.5362e+09          2.49668e+09             1.015831\n",
      "               gsurf           900.760174           929.505337             0.969075\n",
      "\n"
     ]
    },
    {
     "data": {
      "text/plain": [
       "[<matplotlib.lines.Line2D at 0x1808bb2cd0>]"
      ]
     },
     "execution_count": 2,
     "metadata": {},
     "output_type": "execute_result"
    },
    {
     "data": {
      "image/png": "[encoded data removed]",
      "text/plain": [
       "<matplotlib.figure.Figure at 0x107635850>"
      ]
     },
     "metadata": {},
     "output_type": "display_data"
    }
   ],
   "source": [
    "'''rough static model for present-day uranus'''\n",
    "\n",
    "import ongp; reload(ongp) # reload to catch any changes to the module\n",
    "\n",
    "mu = const.uranus_mass / const.mearth\n",
    "ru = const.uranus_rvol\n",
    "gu = (const.cgrav * const.uranus_mass / const.uranus_rvol ** 2)\n",
    "\n",
    "f = ongp.evol(z_eos_option='reos water', atm_option='f11_tables u')\n",
    "f.static(mtot='u', mcore=13., zenv=0.1, t10=150.)\n",
    "\n",
    "'''the large `core' mass means H/He envelope extends only to relatively low pressures\n",
    "(e.g., p ~ 0.1 Mbar) which seems necessary to avoid going off the scvh tables\n",
    "by being to cold at P > 11.4 Mbar. this issue usually manifests as nans in grada.'''\n",
    "\n",
    "\n",
    "print '%20s %20s %20s %20s' % ('', 'uranus', 'model', 'ratio')\n",
    "print '%20s %20f %20f %20f' % ('mass', mu, f.mtot / const.mearth, mu / f.mtot * const.mearth)\n",
    "print '%20s %20g %20g %20f' % ('radius', ru, f.rtot, ru / f.rtot)\n",
    "print '%20s %20f %20f %20f' % ('gsurf', gu, f.surface_g, gu / f.surface_g)\n",
    "print \n",
    "\n",
    "plt.loglog(f.p, f.t)\n"
   ]
  },
  {
   "cell_type": "code",
   "execution_count": 3,
   "metadata": {},
   "outputs": [
    {
     "name": "stdout",
     "output_type": "stream",
     "text": [
      "512 2502793704.32 0.986828209258\n",
      "1024 2496675746.87 0.984415955709\n",
      "2048 2493805855.02 0.983284384126\n",
      "4096 2492420716.54 0.982738236945\n",
      "8192 2491741070.87 0.982470258999\n",
      "16384 2491419815.31 0.982343590926\n"
     ]
    },
    {
     "data": {
      "text/plain": [
       "<matplotlib.text.Text at 0x180a332ed0>"
      ]
     },
     "execution_count": 3,
     "metadata": {},
     "output_type": "execute_result"
    },
    {
     "data": {
      "image/png": "[encoded data removed]",
      "text/plain": [
       "<matplotlib.figure.Figure at 0x180aada350>"
      ]
     },
     "metadata": {},
     "output_type": "display_data"
    }
   ],
   "source": [
    "'''a quick spatial resolution test for the static uranus'''\n",
    "import ongp\n",
    "reload(ongp)\n",
    "for nz in (512, 1024, 2048, 4096, 8192, 16384):\n",
    "    u = ongp.evol(nz=nz, z_eos_option='reos water', atm_option='f11_tables u')\n",
    "    u.static(mtot='u', mcore=13., zenv=0.1, t10=150.)\n",
    "\n",
    "    plt.semilogy(u.r * 1e-9, u.rho)\n",
    "    print nz, u.rtot, u.rtot / const.uranus_rvol\n",
    "    \n",
    "plt.xlabel(r'$r\\ (10^9\\ {\\rm cm})$')\n",
    "plt.ylabel(r'$\\rho\\ (\\rm g\\ cm^{-3})$')"
   ]
  },
  {
   "cell_type": "code",
   "execution_count": 4,
   "metadata": {},
   "outputs": [
    {
     "name": "stdout",
     "output_type": "stream",
     "text": [
      "150.0 59.3555192211\n",
      "840.0 181.71604445\n"
     ]
    },
    {
     "data": {
      "text/plain": [
       "[<matplotlib.lines.Line2D at 0x181326ebd0>]"
      ]
     },
     "execution_count": 4,
     "metadata": {},
     "output_type": "execute_result"
    },
    {
     "data": {
      "image/png": "[encoded data removed]",
      "text/plain": [
       "<matplotlib.figure.Figure at 0x180a2cfc90>"
      ]
     },
     "metadata": {},
     "output_type": "display_data"
    }
   ],
   "source": [
    "''' before try to evolve, verify that starting / ending t10s give calculable static models'''\n",
    "\n",
    "u = ongp.evol(z_eos_option='reos water', atm_option='f11_tables u')\n",
    "\n",
    "u.static(mtot='u', mcore=13., zenv=0.1, t10=150.)\n",
    "print u.t10, u.teff\n",
    "plt.loglog(u.p, u.t)\n",
    "\n",
    "u.static(mtot='u', mcore=13., zenv=0.1, t10=840.)\n",
    "print u.t10, u.teff\n",
    "plt.loglog(u.p, u.t)\n"
   ]
  },
  {
   "cell_type": "code",
   "execution_count": 5,
   "metadata": {},
   "outputs": [
    {
     "name": "stdout",
     "output_type": "stream",
     "text": [
      "        step        iters           t1          t10         teff       radius       s_mean        dt_yr      age_gyr  nz_gradient     nz_shell       y_surf     walltime \n",
      "           0           24       -1.000      840.000      181.716    3.790e+09        7.949    0.000e+00        0.000            0            0        0.270        0.388\n",
      "           1           24       -1.000      825.509      179.904    3.759e+09        7.923    3.236e+05        0.000            0            0        0.270        0.817\n",
      "           2           23       -1.000      811.268      178.120    3.730e+09        7.897    3.384e+05        0.001            0            0        0.270        1.187\n",
      "           3           23       -1.000      797.273      176.365    3.700e+09        7.872    3.550e+05        0.001            0            0        0.270        1.553\n",
      "           4           22       -1.000      783.519      174.638    3.672e+09        7.846    3.716e+05        0.001            0            0        0.270        1.927\n",
      "           5           22       -1.000      770.002      172.938    3.644e+09        7.820    3.884e+05        0.002            0            0        0.270        2.271\n",
      "           6           21       -1.000      756.719      171.265    3.617e+09        7.795    4.067e+05        0.002            0            0        0.270        2.602\n",
      "           7           20       -1.000      743.665      169.619    3.590e+09        7.769    4.258e+05        0.003            0            0        0.270        2.942\n",
      "           8           18       -1.000      730.836      167.999    3.564e+09        7.743    4.445e+05        0.003            0            0        0.270        3.248\n",
      "           9           16       -1.000      718.228      166.404    3.538e+09        7.718    4.644e+05        0.004            0            0        0.270        3.579\n",
      "          10           14       -1.000      705.838      164.835    3.513e+09        7.692    4.859e+05        0.004            0            0        0.270        3.870\n",
      "          11           20       -1.000      693.661      163.290    3.488e+09        7.666    5.062e+05        0.005            0            0        0.270        4.213\n",
      "          12           21       -1.000      681.695      161.770    3.464e+09        7.641    5.289e+05        0.005            0            0        0.270        4.559\n",
      "          13           21       -1.000      669.935      160.273    3.440e+09        7.615    5.523e+05        0.006            0            0        0.270        4.875\n",
      "          14           21       -1.000      658.377      158.800    3.417e+09        7.590    5.745e+05        0.006            0            0        0.270        5.235\n",
      "          15           21       -1.000      647.020      157.327    3.395e+09        7.564    6.007e+05        0.007            0            0        0.270        5.591\n",
      "          16           21       -1.000      635.858      155.846    3.373e+09        7.539    6.261e+05        0.007            0            0        0.270        5.953\n",
      "          17           21       -1.000      624.889      154.389    3.351e+09        7.513    6.532e+05        0.008            0            0        0.270        6.328\n",
      "          18           21       -1.000      614.108      152.955    3.330e+09        7.487    6.818e+05        0.009            0            0        0.270        6.696\n",
      "          19           22       -1.000      603.514      151.542    3.309e+09        7.462    7.086e+05        0.009            0            0        0.270        7.047\n",
      "          20           22       -1.000      593.103      150.147    3.289e+09        7.436    7.380e+05        0.010            0            0        0.270        7.413\n",
      "          21           22       -1.000      582.871      148.775    3.270e+09        7.411    7.663e+05        0.011            0            0        0.270        7.783\n",
      "          22           21       -1.000      572.816      147.424    3.252e+09        7.386    7.959e+05        0.012            0            0        0.270        8.140\n",
      "          23           21       -1.000      562.934      146.095    3.233e+09        7.360    8.258e+05        0.013            0            0        0.270        8.502\n",
      "          24           21       -1.000      553.223      144.786    3.215e+09        7.335    8.564e+05        0.013            0            0        0.270        8.853\n",
      "          25           21       -1.000      543.679      143.500    3.197e+09        7.309    8.878e+05        0.014            0            0        0.270        9.223\n",
      "          26           21       -1.000      534.300      142.233    3.180e+09        7.284    9.206e+05        0.015            0            0        0.270        9.560\n",
      "          27           21       -1.000      525.083      140.987    3.163e+09        7.259    9.535e+05        0.016            0            0        0.270        9.907\n",
      "          28           21       -1.000      516.025      139.761    3.146e+09        7.233    9.886e+05        0.017            0            0        0.270       10.249\n",
      "          29           21       -1.000      507.123      138.554    3.130e+09        7.208    1.023e+06        0.018            0            0        0.270       10.635\n",
      "          30           21       -1.000      498.374      137.011    3.114e+09        7.182    1.071e+06        0.019            0            0        0.270       11.064\n",
      "          31           21       -1.000      489.777      135.275    3.098e+09        7.157    1.128e+06        0.020            0            0        0.270       11.440\n",
      "          32           21       -1.000      481.328      133.570    3.083e+09        7.132    1.188e+06        0.022            0            0        0.270       11.789\n",
      "          33           21       -1.000      473.024      131.892    3.068e+09        7.106    1.252e+06        0.023            0            0        0.270       12.148\n",
      "          34           21       -1.000      464.864      130.243    3.053e+09        7.081    1.318e+06        0.024            0            0        0.270       12.524\n",
      "          35           21       -1.000      456.844      128.621    3.039e+09        7.056    1.389e+06        0.026            0            0        0.270       12.864\n",
      "          36           20       -1.000      448.963      127.007    3.024e+09        7.031    1.462e+06        0.027            0            0        0.270       13.210\n",
      "          37           20       -1.000      441.218      125.410    3.010e+09        7.005    1.540e+06        0.029            0            0        0.270       13.563\n",
      "          38           20       -1.000      433.607      123.843    2.996e+09        6.980    1.621e+06        0.030            0            0        0.270       13.910\n",
      "          39           20       -1.000      426.127      122.306    2.983e+09        6.954    1.705e+06        0.032            0            0        0.270       14.329\n",
      "          40           20       -1.000      418.775      120.796    2.969e+09        6.929    1.794e+06        0.034            0            0        0.270       14.834\n",
      "          41           20       -1.000      411.551      119.316    2.956e+09        6.904    1.886e+06        0.036            0            0        0.270       15.264\n",
      "          42           20       -1.000      404.451      117.864    2.944e+09        6.878    1.981e+06        0.038            0            0        0.270       15.713\n",
      "          43           20       -1.000      397.474      116.439    2.931e+09        6.853    2.081e+06        0.040            0            0        0.270       16.114\n",
      "          44           20       -1.000      390.617      115.042    2.918e+09        6.828    2.184e+06        0.042            0            0        0.270       16.511\n",
      "          45           20       -1.000      383.879      113.672    2.906e+09        6.803    2.291e+06        0.044            0            0        0.270       16.916\n",
      "          46           20       -1.000      377.256      112.328    2.894e+09        6.777    2.402e+06        0.046            0            0        0.270       17.308\n",
      "          47           20       -1.000      370.748      110.984    2.883e+09        6.752    2.519e+06        0.049            0            0        0.270       17.667\n"
     ]
    },
    {
     "name": "stdout",
     "output_type": "stream",
     "text": [
      "          48           20       -1.000      364.352      109.445    2.871e+09        6.727    2.663e+06        0.052            0            0        0.270       18.032\n",
      "          49           20       -1.000      358.067      107.935    2.860e+09        6.701    2.815e+06        0.054            0            0        0.270       18.382\n",
      "          50           19       -1.000      351.890      106.453    2.848e+09        6.676    2.973e+06        0.057            0            0        0.270       18.716\n",
      "          51           19       -1.000      345.819      104.999    2.838e+09        6.651    3.142e+06        0.061            0            0        0.270       19.059\n",
      "          52           19       -1.000      339.853      103.573    2.827e+09        6.626    3.317e+06        0.064            0            0        0.270       19.371\n",
      "          53           19       -1.000      333.991      102.175    2.816e+09        6.601    3.506e+06        0.067            0            0        0.270       19.673\n",
      "          54           19       -1.000      328.229      100.805    2.806e+09        6.575    3.701e+06        0.071            0            0        0.270       20.010\n",
      "          55           19       -1.000      322.567       99.461    2.796e+09        6.550    3.912e+06        0.075            0            0        0.270       20.336\n",
      "          56           19       -1.000      317.002       98.145    2.786e+09        6.525    4.131e+06        0.079            0            0        0.270       20.665\n",
      "          57           19       -1.000      311.533       96.852    2.776e+09        6.500    4.363e+06        0.084            0            0        0.270       20.989\n",
      "          58           19       -1.000      306.159       95.587    2.767e+09        6.475    4.606e+06        0.088            0            0        0.270       21.409\n",
      "          59           19       -1.000      300.877       94.348    2.758e+09        6.450    4.865e+06        0.093            0            0        0.270       21.746\n",
      "          60           19       -1.000      295.687       93.136    2.749e+09        6.425    5.135e+06        0.098            0            0        0.270       22.069\n",
      "          61           19       -1.000      290.586       91.951    2.740e+09        6.400    5.425e+06        0.104            0            0        0.270       22.383\n",
      "          62           19       -1.000      285.573       90.792    2.731e+09        6.375    5.725e+06        0.109            0            0        0.270       22.689\n",
      "          63           19       -1.000      280.647       89.568    2.723e+09        6.350    6.076e+06        0.115            0            0        0.270       23.022\n",
      "          64           19       -1.000      275.805       88.275    2.714e+09        6.325    6.481e+06        0.122            0            0        0.270       23.368\n",
      "          65           19       -1.000      271.047       87.006    2.706e+09        6.300    6.919e+06        0.129            0            0        0.270       23.691\n",
      "          66           19       -1.000      266.371       85.748    2.698e+09        6.276    7.389e+06        0.136            0            0        0.270       23.996\n",
      "          67           19       -1.000      261.776       84.526    2.690e+09        6.251    7.894e+06        0.144            0            0        0.270       24.355\n",
      "          68           19       -1.000      257.260       83.339    2.682e+09        6.226    8.418e+06        0.152            0            0        0.270       24.690\n",
      "          69           19       -1.000      252.822       82.188    2.674e+09        6.201    8.978e+06        0.161            0            0        0.270       24.993\n",
      "          70           18       -1.000      248.461       81.072    2.667e+09        6.177    9.574e+06        0.171            0            0        0.270       25.306\n",
      "          71           18       -1.000      244.174       79.991    2.659e+09        6.152    1.021e+07        0.181            0            0        0.270       25.601\n",
      "          72           18       -1.000      239.962       78.944    2.652e+09        6.127    1.089e+07        0.192            0            0        0.270       25.903\n",
      "          73           18       -1.000      235.822       77.932    2.645e+09        6.103    1.161e+07        0.204            0            0        0.270       26.213\n",
      "          74           18       -1.000      231.754       76.954    2.638e+09        6.078    1.238e+07        0.216            0            0        0.270       26.521\n",
      "          75           18       -1.000      227.756       76.010    2.631e+09        6.054    1.321e+07        0.229            0            0        0.270       26.811\n",
      "          76           18       -1.000      223.827       75.028    2.624e+09        6.029    1.417e+07        0.243            0            0        0.270       27.116\n",
      "          77           18       -1.000      219.966       74.047    2.618e+09        6.005    1.525e+07        0.259            0            0        0.270       27.429\n",
      "          78           18       -1.000      216.171       73.106    2.611e+09        5.981    1.643e+07        0.275            0            0        0.270       27.739\n",
      "          79           18       -1.000      212.442       72.202    2.605e+09        5.957    1.769e+07        0.293            0            0        0.270       28.046\n",
      "          80           18       -1.000      208.777       71.337    2.598e+09        5.932    1.907e+07        0.312            0            0        0.270       28.370\n",
      "          81           18       -1.000      205.175       70.508    2.592e+09        5.908    2.054e+07        0.332            0            0        0.270       28.696\n",
      "          82           18       -1.000      201.636       69.718    2.586e+09        5.884    2.219e+07        0.355            0            0        0.270       29.003\n",
      "          83           18       -1.000      198.158       68.963    2.580e+09        5.860    2.393e+07        0.379            0            0        0.270       29.303\n",
      "          84           18       -1.000      194.739       68.245    2.574e+09        5.836    2.584e+07        0.404            0            0        0.270       29.613\n",
      "          85           18       -1.000      191.380       67.562    2.568e+09        5.812    2.789e+07        0.432            0            0        0.270       29.917\n",
      "          86           18       -1.000      188.078       66.914    2.563e+09        5.788    3.013e+07        0.462            0            0        0.270       30.232\n",
      "          87           18       -1.000      184.834       66.138    2.557e+09        5.765    3.334e+07        0.496            0            0        0.270       30.535\n",
      "          88           18       -1.000      181.645       65.395    2.552e+09        5.741    3.707e+07        0.533            0            0        0.270       30.854\n",
      "          89           18       -1.000      178.511       64.704    2.546e+09        5.717    4.128e+07        0.574            0            0        0.270       31.163\n",
      "          90           18       -1.000      175.432       64.063    2.541e+09        5.693    4.606e+07        0.620            0            0        0.270       31.533\n",
      "          91           18       -1.000      172.405       63.470    2.536e+09        5.670    5.151e+07        0.672            0            0        0.270       31.847\n",
      "          92           18       -1.000      169.431       62.923    2.530e+09        5.646    5.767e+07        0.729            0            0        0.270       32.173\n",
      "          93           18       -1.000      166.508       62.420    2.525e+09        5.622    6.473e+07        0.794            0            0        0.270       32.469\n",
      "          94           18       -1.000      163.636       61.878    2.520e+09        5.599    7.452e+07        0.869            0            0        0.270       32.786\n",
      "          95           18       -1.000      160.813       61.263    2.516e+09        5.575    9.010e+07        0.959            0            0        0.270       33.080\n",
      "          96           17       -1.000      158.039       60.727    2.511e+09        5.551    1.095e+08        1.068            0            0        0.270       33.384\n"
     ]
    },
    {
     "name": "stdout",
     "output_type": "stream",
     "text": [
      "          97           17       -1.000      155.312       60.266    2.506e+09        5.528    1.344e+08        1.203            0            0        0.270       33.703\n",
      "          98           17       -1.000      152.633       59.872    2.501e+09        5.504    1.658e+08        1.369            0            0        0.270       34.012\n",
      "          99           17       -1.000      150.000       59.356    2.497e+09        5.481    2.407e+08        1.609            0            0        0.270       34.320\n"
     ]
    }
   ],
   "source": [
    "import ongp\n",
    "reload(ongp)\n",
    "u = ongp.evol(z_eos_option='reos water', atm_option='f11_tables u')\n",
    "h = u.run(mtot='u', mcore=13., zenv=0.1, start_t=840., nsteps=100, end_t=150., which_t='t10')"
   ]
  },
  {
   "cell_type": "code",
   "execution_count": 6,
   "metadata": {},
   "outputs": [
    {
     "data": {
      "text/plain": [
       "(50.0, 188.89933177282484)"
      ]
     },
     "execution_count": 6,
     "metadata": {},
     "output_type": "execute_result"
    },
    {
     "data": {
      "image/png": "[encoded data removed]",
      "text/plain": [
       "<matplotlib.figure.Figure at 0x18131735d0>"
      ]
     },
     "metadata": {},
     "output_type": "display_data"
    }
   ],
   "source": [
    "plt.plot(h['age'], h['teff'])\n",
    "plt.xlabel(r'${\\rm Age}\\ ({\\rm Gyr})$')\n",
    "plt.ylabel(r'$T_{\\rm eff}\\ (\\rm K)$')\n",
    "\n",
    "plt.ylim(ymin=50.)"
   ]
  },
  {
   "cell_type": "code",
   "execution_count": null,
   "metadata": {
    "collapsed": true
   },
   "outputs": [],
   "source": []
  }
 ],
 "metadata": {
  "kernelspec": {
   "display_name": "Python [default]",
   "language": "python",
   "name": "python2"
  },
  "language_info": {
   "codemirror_mode": {
    "name": "ipython",
    "version": 2
   },
   "file_extension": ".py",
   "mimetype": "text/x-python",
   "name": "python",
   "nbconvert_exporter": "python",
   "pygments_lexer": "ipython2",
   "version": "2.7.13"
  }
 },
 "nbformat": 4,
 "nbformat_minor": 1
}
