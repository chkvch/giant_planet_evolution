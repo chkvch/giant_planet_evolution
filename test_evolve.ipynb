{
 "cells": [
  {
   "cell_type": "code",
   "execution_count": 5,
   "metadata": {},
   "outputs": [
    {
     "name": "stdout",
     "output_type": "stream",
     "text": [
      "{'mtot': 'jup', 't1': 165.0, 'z1': 0.07, 'z2': 0.1, 'y1': 0.265, 'y2': 0.28, 'transition_pressure': 3.35, 'mcore': 3.25}\n"
     ]
    },
    {
     "data": {
      "text/plain": [
       "(6901060386.4945278, 165.0, 125.3312058182319)"
      ]
     },
     "execution_count": 5,
     "metadata": {},
     "output_type": "execute_result"
    }
   ],
   "source": [
    "import ongp\n",
    "reload(ongp)\n",
    "\n",
    "evol_params = {\n",
    "    'hhe_eos_option':'scvh',\n",
    "    'z_eos_option':'reos water',\n",
    "    'atm_option':'f11_tables jup', \n",
    "    'path_to_data':'/Users/chris/Dropbox/planet_models/ongp/data'\n",
    "}\n",
    "e = ongp.evol(evol_params)\n",
    "\n",
    "static_params = {\n",
    "    'mtot':'jup', \n",
    "    't1':165., \n",
    "    'z1':0.07, \n",
    "    'z2':0.1, \n",
    "    'y1':0.265, \n",
    "    'y2':0.280, \n",
    "    'transition_pressure':3.35, \n",
    "    'mcore':3.25\n",
    "}\n",
    "print(static_params)\n",
    "e.static(static_params)"
   ]
  },
  {
   "cell_type": "code",
   "execution_count": null,
   "metadata": {},
   "outputs": [
    {
     "name": "stdout",
     "output_type": "stream",
     "text": [
      "        step        iters           t1          t10         teff       radius       s_mean        dt_yr      age_gyr  nz_gradient     nz_shell           y1     walltime \n",
      "           0           40     2000.000     3052.609     1022.900    1.255e+10       10.287    0.000e+00        0.000            0            0        0.265        0.929\n",
      "           5           38     1760.478     2856.527      909.960    1.163e+10       10.064    1.112e+05        0.000            0            0        0.265        5.483\n",
      "          10           46     1549.641     2645.151      813.578    1.092e+10        9.853    1.876e+05        0.001            0            0        0.265       10.110\n",
      "          15           37     1364.054     2420.167      721.450    1.034e+10        9.645    3.240e+05        0.003            0            0        0.265       14.523\n",
      "          20           35     1200.693     2186.078      636.776    9.862e+09        9.439    5.543e+05        0.005            0            0        0.265       18.670\n",
      "          25           34     1056.897     1960.537      556.400    9.459e+09        9.240    9.622e+05        0.009            0            0        0.265       22.774\n",
      "          30           34      930.321     1750.000      481.727    9.120e+09        9.047    1.688e+06        0.016            0            0        0.265       26.880\n",
      "          35           34      818.905     1558.245      422.676    8.827e+09        8.858    2.836e+06        0.027            0            0        0.265       30.944\n",
      "          40           34      720.832     1384.822      376.008    8.569e+09        8.671    4.569e+06        0.046            0            0        0.265       34.781\n",
      "          45           34      634.504     1227.918      333.204    8.337e+09        8.483    7.430e+06        0.077            0            0        0.265       38.784\n"
     ]
    }
   ],
   "source": [
    "evolve_params = {\n",
    "    'mtot':'jup',\n",
    "    'start_t':2e3,\n",
    "    'end_t':160.,\n",
    "    'which_t':'t1',\n",
    "    'y1':0.265,\n",
    "    'y2':0.280,\n",
    "    'z1':0.07,\n",
    "    'z2':0.1,\n",
    "    'mcore':3.25,\n",
    "    'transition_pressure':3.35,\n",
    "    'stdout_interval':5\n",
    "}\n",
    "e.evolve(evolve_params)"
   ]
  },
  {
   "cell_type": "code",
   "execution_count": null,
   "metadata": {},
   "outputs": [],
   "source": [
    "plt.plot(e.history['age'], e.history['t1'])\n",
    "plt.hlines(165, 0, 5, linestyle=':', color='grey', lw=1)\n",
    "plt.ylim(150, 300)\n",
    "plt.legend()\n",
    "plt.xlabel(r'Age (Gyr)')\n",
    "plt.ylabel(r'$T_{1}\\ (\\rm K)$')"
   ]
  }
 ],
 "metadata": {
  "kernelspec": {
   "display_name": "py36",
   "language": "python",
   "name": "py36"
  },
  "language_info": {
   "codemirror_mode": {
    "name": "ipython",
    "version": 3
   },
   "file_extension": ".py",
   "mimetype": "text/x-python",
   "name": "python",
   "nbconvert_exporter": "python",
   "pygments_lexer": "ipython3",
   "version": "3.6.3"
  }
 },
 "nbformat": 4,
 "nbformat_minor": 2
}
